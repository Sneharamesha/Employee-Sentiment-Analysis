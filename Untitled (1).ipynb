{
 "cells": [
  {
   "cell_type": "code",
   "execution_count": 48,
   "id": "ed8fc5b8-0e1e-45f9-aebc-6be551d690e9",
   "metadata": {},
   "outputs": [
    {
     "name": "stdout",
     "output_type": "stream",
     "text": [
      "Requirement already satisfied: pandas in /Library/Frameworks/Python.framework/Versions/3.13/lib/python3.13/site-packages (2.2.3)\n",
      "Requirement already satisfied: numpy>=1.26.0 in /Library/Frameworks/Python.framework/Versions/3.13/lib/python3.13/site-packages (from pandas) (2.2.5)\n",
      "Requirement already satisfied: python-dateutil>=2.8.2 in /Library/Frameworks/Python.framework/Versions/3.13/lib/python3.13/site-packages (from pandas) (2.9.0.post0)\n",
      "Requirement already satisfied: pytz>=2020.1 in /Library/Frameworks/Python.framework/Versions/3.13/lib/python3.13/site-packages (from pandas) (2025.2)\n",
      "Requirement already satisfied: tzdata>=2022.7 in /Library/Frameworks/Python.framework/Versions/3.13/lib/python3.13/site-packages (from pandas) (2025.2)\n",
      "Requirement already satisfied: six>=1.5 in /Library/Frameworks/Python.framework/Versions/3.13/lib/python3.13/site-packages (from python-dateutil>=2.8.2->pandas) (1.17.0)\n",
      "\n",
      "\u001b[1m[\u001b[0m\u001b[34;49mnotice\u001b[0m\u001b[1;39;49m]\u001b[0m\u001b[39;49m A new release of pip is available: \u001b[0m\u001b[31;49m25.0.1\u001b[0m\u001b[39;49m -> \u001b[0m\u001b[32;49m25.1.1\u001b[0m\n",
      "\u001b[1m[\u001b[0m\u001b[34;49mnotice\u001b[0m\u001b[1;39;49m]\u001b[0m\u001b[39;49m To update, run: \u001b[0m\u001b[32;49mpip3 install --upgrade pip\u001b[0m\n",
      "Note: you may need to restart the kernel to use updated packages.\n",
      "Requirement already satisfied: TextBlob in /Library/Frameworks/Python.framework/Versions/3.13/lib/python3.13/site-packages (0.19.0)\n",
      "Requirement already satisfied: nltk>=3.9 in /Library/Frameworks/Python.framework/Versions/3.13/lib/python3.13/site-packages (from TextBlob) (3.9.1)\n",
      "Requirement already satisfied: click in /Library/Frameworks/Python.framework/Versions/3.13/lib/python3.13/site-packages (from nltk>=3.9->TextBlob) (8.2.0)\n",
      "Requirement already satisfied: joblib in /Library/Frameworks/Python.framework/Versions/3.13/lib/python3.13/site-packages (from nltk>=3.9->TextBlob) (1.5.0)\n",
      "Requirement already satisfied: regex>=2021.8.3 in /Library/Frameworks/Python.framework/Versions/3.13/lib/python3.13/site-packages (from nltk>=3.9->TextBlob) (2024.11.6)\n",
      "Requirement already satisfied: tqdm in /Library/Frameworks/Python.framework/Versions/3.13/lib/python3.13/site-packages (from nltk>=3.9->TextBlob) (4.67.1)\n",
      "\n",
      "\u001b[1m[\u001b[0m\u001b[34;49mnotice\u001b[0m\u001b[1;39;49m]\u001b[0m\u001b[39;49m A new release of pip is available: \u001b[0m\u001b[31;49m25.0.1\u001b[0m\u001b[39;49m -> \u001b[0m\u001b[32;49m25.1.1\u001b[0m\n",
      "\u001b[1m[\u001b[0m\u001b[34;49mnotice\u001b[0m\u001b[1;39;49m]\u001b[0m\u001b[39;49m To update, run: \u001b[0m\u001b[32;49mpip3 install --upgrade pip\u001b[0m\n",
      "Note: you may need to restart the kernel to use updated packages.\n",
      "Requirement already satisfied: scikit-learn in /Library/Frameworks/Python.framework/Versions/3.13/lib/python3.13/site-packages (1.6.1)\n",
      "Requirement already satisfied: numpy>=1.19.5 in /Library/Frameworks/Python.framework/Versions/3.13/lib/python3.13/site-packages (from scikit-learn) (2.2.5)\n",
      "Requirement already satisfied: scipy>=1.6.0 in /Library/Frameworks/Python.framework/Versions/3.13/lib/python3.13/site-packages (from scikit-learn) (1.15.3)\n",
      "Requirement already satisfied: joblib>=1.2.0 in /Library/Frameworks/Python.framework/Versions/3.13/lib/python3.13/site-packages (from scikit-learn) (1.5.0)\n",
      "Requirement already satisfied: threadpoolctl>=3.1.0 in /Library/Frameworks/Python.framework/Versions/3.13/lib/python3.13/site-packages (from scikit-learn) (3.6.0)\n",
      "\n",
      "\u001b[1m[\u001b[0m\u001b[34;49mnotice\u001b[0m\u001b[1;39;49m]\u001b[0m\u001b[39;49m A new release of pip is available: \u001b[0m\u001b[31;49m25.0.1\u001b[0m\u001b[39;49m -> \u001b[0m\u001b[32;49m25.1.1\u001b[0m\n",
      "\u001b[1m[\u001b[0m\u001b[34;49mnotice\u001b[0m\u001b[1;39;49m]\u001b[0m\u001b[39;49m To update, run: \u001b[0m\u001b[32;49mpip3 install --upgrade pip\u001b[0m\n",
      "Note: you may need to restart the kernel to use updated packages.\n",
      "Collecting matplotlib\n",
      "  Downloading matplotlib-3.10.3-cp313-cp313-macosx_11_0_arm64.whl.metadata (11 kB)\n",
      "Collecting contourpy>=1.0.1 (from matplotlib)\n",
      "  Downloading contourpy-1.3.2-cp313-cp313-macosx_11_0_arm64.whl.metadata (5.5 kB)\n",
      "Collecting cycler>=0.10 (from matplotlib)\n",
      "  Downloading cycler-0.12.1-py3-none-any.whl.metadata (3.8 kB)\n",
      "Collecting fonttools>=4.22.0 (from matplotlib)\n",
      "  Downloading fonttools-4.58.0-cp313-cp313-macosx_10_13_universal2.whl.metadata (104 kB)\n",
      "Collecting kiwisolver>=1.3.1 (from matplotlib)\n",
      "  Downloading kiwisolver-1.4.8-cp313-cp313-macosx_11_0_arm64.whl.metadata (6.2 kB)\n",
      "Requirement already satisfied: numpy>=1.23 in /Library/Frameworks/Python.framework/Versions/3.13/lib/python3.13/site-packages (from matplotlib) (2.2.5)\n",
      "Requirement already satisfied: packaging>=20.0 in /Library/Frameworks/Python.framework/Versions/3.13/lib/python3.13/site-packages (from matplotlib) (25.0)\n",
      "Collecting pillow>=8 (from matplotlib)\n",
      "  Downloading pillow-11.2.1-cp313-cp313-macosx_11_0_arm64.whl.metadata (8.9 kB)\n",
      "Collecting pyparsing>=2.3.1 (from matplotlib)\n",
      "  Downloading pyparsing-3.2.3-py3-none-any.whl.metadata (5.0 kB)\n",
      "Requirement already satisfied: python-dateutil>=2.7 in /Library/Frameworks/Python.framework/Versions/3.13/lib/python3.13/site-packages (from matplotlib) (2.9.0.post0)\n",
      "Requirement already satisfied: six>=1.5 in /Library/Frameworks/Python.framework/Versions/3.13/lib/python3.13/site-packages (from python-dateutil>=2.7->matplotlib) (1.17.0)\n",
      "Downloading matplotlib-3.10.3-cp313-cp313-macosx_11_0_arm64.whl (8.1 MB)\n",
      "\u001b[2K   \u001b[90m━━━━━━━━━━━━━━━━━━━━━━━━━━━━━━━━━━━━━━━━\u001b[0m \u001b[32m8.1/8.1 MB\u001b[0m \u001b[31m29.2 MB/s\u001b[0m eta \u001b[36m0:00:00\u001b[0ma \u001b[36m0:00:01\u001b[0m\n",
      "\u001b[?25hDownloading contourpy-1.3.2-cp313-cp313-macosx_11_0_arm64.whl (255 kB)\n",
      "Downloading cycler-0.12.1-py3-none-any.whl (8.3 kB)\n",
      "Downloading fonttools-4.58.0-cp313-cp313-macosx_10_13_universal2.whl (2.7 MB)\n",
      "\u001b[2K   \u001b[90m━━━━━━━━━━━━━━━━━━━━━━━━━━━━━━━━━━━━━━━━\u001b[0m \u001b[32m2.7/2.7 MB\u001b[0m \u001b[31m25.1 MB/s\u001b[0m eta \u001b[36m0:00:00\u001b[0m\n",
      "\u001b[?25hDownloading kiwisolver-1.4.8-cp313-cp313-macosx_11_0_arm64.whl (65 kB)\n",
      "Downloading pillow-11.2.1-cp313-cp313-macosx_11_0_arm64.whl (3.0 MB)\n",
      "\u001b[2K   \u001b[90m━━━━━━━━━━━━━━━━━━━━━━━━━━━━━━━━━━━━━━━━\u001b[0m \u001b[32m3.0/3.0 MB\u001b[0m \u001b[31m27.9 MB/s\u001b[0m eta \u001b[36m0:00:00\u001b[0m\n",
      "\u001b[?25hDownloading pyparsing-3.2.3-py3-none-any.whl (111 kB)\n",
      "Installing collected packages: pyparsing, pillow, kiwisolver, fonttools, cycler, contourpy, matplotlib\n",
      "Successfully installed contourpy-1.3.2 cycler-0.12.1 fonttools-4.58.0 kiwisolver-1.4.8 matplotlib-3.10.3 pillow-11.2.1 pyparsing-3.2.3\n",
      "\n",
      "\u001b[1m[\u001b[0m\u001b[34;49mnotice\u001b[0m\u001b[1;39;49m]\u001b[0m\u001b[39;49m A new release of pip is available: \u001b[0m\u001b[31;49m25.0.1\u001b[0m\u001b[39;49m -> \u001b[0m\u001b[32;49m25.1.1\u001b[0m\n",
      "\u001b[1m[\u001b[0m\u001b[34;49mnotice\u001b[0m\u001b[1;39;49m]\u001b[0m\u001b[39;49m To update, run: \u001b[0m\u001b[32;49mpip3 install --upgrade pip\u001b[0m\n",
      "Note: you may need to restart the kernel to use updated packages.\n"
     ]
    },
    {
     "name": "stderr",
     "output_type": "stream",
     "text": [
      "Matplotlib is building the font cache; this may take a moment.\n"
     ]
    }
   ],
   "source": [
    "\n",
    "%pip install pandas\n",
    "%pip install TextBlob\n",
    "%pip install scikit-learn\n",
    "%pip install matplotlib\n",
    "import pandas as pd\n",
    "import matplotlib.pyplot as plt\n",
    "from sklearn.linear_model import LinearRegression\n",
    "from sklearn.model_selection import train_test_split\n",
    "from datetime import timedelta"
   ]
  },
  {
   "cell_type": "code",
   "execution_count": 49,
   "id": "7dc2d6ca-68b3-47ec-8b0d-053471ff06e6",
   "metadata": {},
   "outputs": [
    {
     "name": "stdout",
     "output_type": "stream",
     "text": [
      "Dataset columns: ['Subject', 'body', 'date', 'from']\n"
     ]
    },
    {
     "data": {
      "text/html": [
       "<div>\n",
       "<style scoped>\n",
       "    .dataframe tbody tr th:only-of-type {\n",
       "        vertical-align: middle;\n",
       "    }\n",
       "\n",
       "    .dataframe tbody tr th {\n",
       "        vertical-align: top;\n",
       "    }\n",
       "\n",
       "    .dataframe thead th {\n",
       "        text-align: right;\n",
       "    }\n",
       "</style>\n",
       "<table border=\"1\" class=\"dataframe\">\n",
       "  <thead>\n",
       "    <tr style=\"text-align: right;\">\n",
       "      <th></th>\n",
       "      <th>Subject</th>\n",
       "      <th>body</th>\n",
       "      <th>date</th>\n",
       "      <th>from</th>\n",
       "      <th>employee_id</th>\n",
       "      <th>message</th>\n",
       "    </tr>\n",
       "  </thead>\n",
       "  <tbody>\n",
       "    <tr>\n",
       "      <th>0</th>\n",
       "      <td>EnronOptions Update!</td>\n",
       "      <td>EnronOptions Announcement\\n\\n\\nWe have updated...</td>\n",
       "      <td>2010-05-10</td>\n",
       "      <td>sally.beck@enron.com</td>\n",
       "      <td>sally.beck@enron.com</td>\n",
       "      <td>EnronOptions Update! EnronOptions Announcement...</td>\n",
       "    </tr>\n",
       "    <tr>\n",
       "      <th>1</th>\n",
       "      <td>(No Subject)</td>\n",
       "      <td>Marc,\\n\\nUnfortunately, today is not going to ...</td>\n",
       "      <td>2010-07-29</td>\n",
       "      <td>eric.bass@enron.com</td>\n",
       "      <td>eric.bass@enron.com</td>\n",
       "      <td>(No Subject) Marc,\\n\\nUnfortunately, today is ...</td>\n",
       "    </tr>\n",
       "    <tr>\n",
       "      <th>2</th>\n",
       "      <td>Phone Screen  Interview - Shannon L. Burnham</td>\n",
       "      <td>When: Wednesday, June 06, 2001 10:00 AM-11:00 ...</td>\n",
       "      <td>2011-07-25</td>\n",
       "      <td>sally.beck@enron.com</td>\n",
       "      <td>sally.beck@enron.com</td>\n",
       "      <td>Phone Screen  Interview - Shannon L. Burnham W...</td>\n",
       "    </tr>\n",
       "    <tr>\n",
       "      <th>3</th>\n",
       "      <td>RE: My new work email</td>\n",
       "      <td>we were thinking papasitos (we can meet somewh...</td>\n",
       "      <td>2010-03-25</td>\n",
       "      <td>johnny.palmer@enron.com</td>\n",
       "      <td>johnny.palmer@enron.com</td>\n",
       "      <td>RE: My new work email we were thinking papasit...</td>\n",
       "    </tr>\n",
       "    <tr>\n",
       "      <th>4</th>\n",
       "      <td>Bet</td>\n",
       "      <td>Since you never gave me the $20 for the last t...</td>\n",
       "      <td>2011-05-21</td>\n",
       "      <td>lydia.delgado@enron.com</td>\n",
       "      <td>lydia.delgado@enron.com</td>\n",
       "      <td>Bet Since you never gave me the $20 for the la...</td>\n",
       "    </tr>\n",
       "  </tbody>\n",
       "</table>\n",
       "</div>"
      ],
      "text/plain": [
       "                                        Subject  \\\n",
       "0                          EnronOptions Update!   \n",
       "1                                  (No Subject)   \n",
       "2  Phone Screen  Interview - Shannon L. Burnham   \n",
       "3                         RE: My new work email   \n",
       "4                                           Bet   \n",
       "\n",
       "                                                body       date  \\\n",
       "0  EnronOptions Announcement\\n\\n\\nWe have updated... 2010-05-10   \n",
       "1  Marc,\\n\\nUnfortunately, today is not going to ... 2010-07-29   \n",
       "2  When: Wednesday, June 06, 2001 10:00 AM-11:00 ... 2011-07-25   \n",
       "3  we were thinking papasitos (we can meet somewh... 2010-03-25   \n",
       "4  Since you never gave me the $20 for the last t... 2011-05-21   \n",
       "\n",
       "                      from              employee_id  \\\n",
       "0     sally.beck@enron.com     sally.beck@enron.com   \n",
       "1      eric.bass@enron.com      eric.bass@enron.com   \n",
       "2     sally.beck@enron.com     sally.beck@enron.com   \n",
       "3  johnny.palmer@enron.com  johnny.palmer@enron.com   \n",
       "4  lydia.delgado@enron.com  lydia.delgado@enron.com   \n",
       "\n",
       "                                             message  \n",
       "0  EnronOptions Update! EnronOptions Announcement...  \n",
       "1  (No Subject) Marc,\\n\\nUnfortunately, today is ...  \n",
       "2  Phone Screen  Interview - Shannon L. Burnham W...  \n",
       "3  RE: My new work email we were thinking papasit...  \n",
       "4  Bet Since you never gave me the $20 for the la...  "
      ]
     },
     "execution_count": 49,
     "metadata": {},
     "output_type": "execute_result"
    }
   ],
   "source": [
    "# 1) Load & inspect\n",
    "file_path = '/Users/sneharamesha/downloads/test(in).csv'  # adjust this path if needed\n",
    "df = pd.read_csv('/Users/sneharamesha/downloads/test(in).csv')\n",
    "print(\"Dataset columns:\", df.columns.tolist())\n",
    "# Use the 'from' column as employee ID, and combine Subject + body into one 'message'\n",
    "df['employee_id'] = df['from']\n",
    "df['message'] = df['Subject'].fillna('') + ' ' + df['body'].fillna('')\n",
    "# Parse dates\n",
    "df['date'] = pd.to_datetime(df['date'], errors='coerce')\n",
    "\n",
    "df.head()\n"
   ]
  },
  {
   "cell_type": "code",
   "execution_count": 50,
   "id": "6e7ed1cb-530d-469e-ab6b-2e836ef5b040",
   "metadata": {},
   "outputs": [],
   "source": [
    "#task1 SENTIMENT LABELING\n",
    "positive_words = ['good','great','awesome','happy','excellent','positive','fortunate','correct','superior']\n",
    "negative_words = ['bad','terrible','sad','poor','negative','unfortunate','wrong','inferior','angry']\n",
    "\n",
    "def get_sentiment(text):\n",
    "    text_lower = text.lower()\n",
    "    pos_count = sum(word in text_lower for word in positive_words)\n",
    "    neg_count = sum(word in text_lower for word in negative_words)\n",
    "    if pos_count > neg_count:\n",
    "        return 'Positive'\n",
    "    elif neg_count > pos_count:\n",
    "        return 'Negative'\n",
    "    else:\n",
    "        return 'Neutral'\n",
    "\n",
    "df['sentiment'] = df['message'].apply(get_sentiment)\n",
    "\n",
    "\n"
   ]
  },
  {
   "cell_type": "code",
   "execution_count": 51,
   "id": "b5de99e4-cc33-4692-867e-f6516eae9db3",
   "metadata": {},
   "outputs": [
    {
     "name": "stdout",
     "output_type": "stream",
     "text": [
      "\n",
      "Sentiment distribution:\n",
      "sentiment\n",
      "Neutral     1912\n",
      "Positive     258\n",
      "Negative      21\n",
      "Name: count, dtype: int64\n"
     ]
    },
    {
     "data": {
      "image/png": "[encoded data removed]",
      "text/plain": [
       "<Figure size 640x480 with 1 Axes>"
      ]
     },
     "metadata": {},
     "output_type": "display_data"
    },
    {
     "name": "stdout",
     "output_type": "stream",
     "text": [
      "\n",
      "Monthly sentiment scores:\n",
      "                   employee_id    month  score\n",
      "0  bobette.riner@ipgdirect.com  2010-01      0\n",
      "1  bobette.riner@ipgdirect.com  2010-02      2\n",
      "2  bobette.riner@ipgdirect.com  2010-03      1\n",
      "3  bobette.riner@ipgdirect.com  2010-04      0\n",
      "4  bobette.riner@ipgdirect.com  2010-05      1\n"
     ]
    }
   ],
   "source": [
    "#task2 Exploratory Data Analysis (EDA)\n",
    "print(\"\\nSentiment distribution:\")\n",
    "print(df['sentiment'].value_counts())\n",
    "\n",
    "df['sentiment'].value_counts().plot(kind='bar')\n",
    "plt.title('Sentiment Distribution')\n",
    "plt.xlabel('Sentiment')\n",
    "plt.ylabel('Count')\n",
    "plt.show()\n",
    "\n",
    "# 6. Monthly Sentiment Score Calculation\n",
    "df['score'] = df['sentiment'].map({'Positive':1, 'Negative':-1, 'Neutral':0})\n",
    "df['month'] = df['date'].dt.to_period('M')\n",
    "\n",
    "monthly_scores = df.groupby(['employee_id', 'month'])['score'].sum().reset_index()\n",
    "print(\"\\nMonthly sentiment scores:\")\n",
    "print(monthly_scores.head())"
   ]
  },
  {
   "cell_type": "code",
   "execution_count": 52,
   "id": "07687c15-ec44-4fff-ad6b-46bc084eda00",
   "metadata": {},
   "outputs": [
    {
     "name": "stdout",
     "output_type": "stream",
     "text": [
      "\n",
      "Monthly sentiment scores:\n",
      "                   employee_id    month  score\n",
      "0  bobette.riner@ipgdirect.com  2010-01      0\n",
      "1  bobette.riner@ipgdirect.com  2010-02      2\n",
      "2  bobette.riner@ipgdirect.com  2010-03      1\n",
      "3  bobette.riner@ipgdirect.com  2010-04      0\n",
      "4  bobette.riner@ipgdirect.com  2010-05      1\n"
     ]
    }
   ],
   "source": [
    "#task3. Monthly Sentiment Score Calculation\n",
    "df['score'] = df['sentiment'].map({'Positive':1, 'Negative':-1, 'Neutral':0})\n",
    "df['month'] = df['date'].dt.to_period('M')\n",
    "\n",
    "monthly_scores = df.groupby(['employee_id', 'month'])['score'].sum().reset_index()\n",
    "print(\"\\nMonthly sentiment scores:\")\n",
    "print(monthly_scores.head())"
   ]
  },
  {
   "cell_type": "code",
   "execution_count": 53,
   "id": "683fe278-3546-409d-bc42-f9924487bfcf",
   "metadata": {},
   "outputs": [
    {
     "name": "stdout",
     "output_type": "stream",
     "text": [
      "\n",
      "Top 3 Positive Employees per month:\n",
      "                     employee_id    month  score\n",
      "24        don.baughman@enron.com  2010-01      2\n",
      "48           eric.bass@enron.com  2010-01      2\n",
      "144      lydia.delgado@enron.com  2010-01      2\n",
      "73         john.arnold@enron.com  2010-02      3\n",
      "1    bobette.riner@ipgdirect.com  2010-02      2\n",
      "..                           ...      ...    ...\n",
      "22   bobette.riner@ipgdirect.com  2011-11      2\n",
      "94         john.arnold@enron.com  2011-11      2\n",
      "143      kayne.coulter@enron.com  2011-12      2\n",
      "191     patti.thompson@enron.com  2011-12      2\n",
      "47        don.baughman@enron.com  2011-12      1\n",
      "\n",
      "[72 rows x 3 columns]\n",
      "\n",
      "Top 3 Negative Employees per month:\n",
      "                     employee_id    month  score\n",
      "0    bobette.riner@ipgdirect.com  2010-01      0\n",
      "96       johnny.palmer@enron.com  2010-01      0\n",
      "192      rhonda.denton@enron.com  2010-01      0\n",
      "25        don.baughman@enron.com  2010-02      0\n",
      "193      rhonda.denton@enron.com  2010-02      0\n",
      "..                           ...      ...    ...\n",
      "118      johnny.palmer@enron.com  2011-11      0\n",
      "166      lydia.delgado@enron.com  2011-11      0\n",
      "23   bobette.riner@ipgdirect.com  2011-12      0\n",
      "71           eric.bass@enron.com  2011-12      0\n",
      "95         john.arnold@enron.com  2011-12      0\n",
      "\n",
      "[72 rows x 3 columns]\n"
     ]
    }
   ],
   "source": [
    "#task4. Employee Ranking (top 3 positive and negative per month)\n",
    "top_positive = (\n",
    "    monthly_scores\n",
    "    .sort_values(['month', 'score', 'employee_id'], ascending=[True, False, True])\n",
    "    .groupby('month')\n",
    "    .head(3)\n",
    ")\n",
    "top_negative = (\n",
    "    monthly_scores\n",
    "    .sort_values(['month', 'score', 'employee_id'], ascending=[True, True, True])\n",
    "    .groupby('month')\n",
    "    .head(3)\n",
    ")\n",
    "\n",
    "print(\"\\nTop 3 Positive Employees per month:\")\n",
    "print(top_positive)\n",
    "print(\"\\nTop 3 Negative Employees per month:\")\n",
    "print(top_negative)\n",
    "\n"
   ]
  },
  {
   "cell_type": "code",
   "execution_count": 64,
   "id": "c7bbc98e-1acc-43c9-b2c4-e1f99d5c0a31",
   "metadata": {},
   "outputs": [
    {
     "name": "stdout",
     "output_type": "stream",
     "text": [
      "\n",
      "Employees at flight risk (≥4 negative messages in 30 days):\n",
      "[]\n"
     ]
    }
   ],
   "source": [
    "#task5. Flight Risk Identification \n",
    "df['neg_flag'] = df['sentiment'] == 'Negative'\n",
    "flight_risks = []\n",
    "\n",
    "for emp, group in df.groupby('employee_id'):\n",
    "    neg_dates = group.loc[group['neg_flag'], 'date'].sort_values()\n",
    "    for start in neg_dates:\n",
    "        end = start + timedelta(days=30)\n",
    "        count = ((neg_dates >= start) & (neg_dates <= end)).sum()\n",
    "        if count >= 4:\n",
    "            flight_risks.append(emp)\n",
    "            break\n",
    "\n",
    "print(\"\\nEmployees at flight risk (≥4 negative messages in 30 days):\")\n",
    "print(sorted(set(flight_risks)))\n",
    "\n"
   ]
  },
  {
   "cell_type": "code",
   "execution_count": 55,
   "id": "0d1c6a03-329e-4d1f-bdfe-b0b29a63990a",
   "metadata": {},
   "outputs": [
    {
     "name": "stdout",
     "output_type": "stream",
     "text": [
      "\n",
      "Regression model performance:\n",
      "Coefficient: -0.01\n",
      "Intercept: 1.02\n",
      "R² Score: -0.08\n"
     ]
    }
   ],
   "source": [
    "#task6. Predictive Modeling (linear regression on monthly scores)\n",
    "monthly_scores['month_num'] = (\n",
    "    (monthly_scores['month'].dt.year - monthly_scores['month'].dt.year.min()) * 12\n",
    "    + monthly_scores['month'].dt.month\n",
    ")\n",
    "X = monthly_scores[['month_num']]\n",
    "y = monthly_scores['score']\n",
    "\n",
    "X_train, X_test, y_train, y_test = train_test_split(X, y, test_size=0.2, random_state=42)\n",
    "model = LinearRegression()\n",
    "model.fit(X_train, y_train)\n",
    "\n",
    "print(\"\\nRegression model performance:\")\n",
    "print(f\"Coefficient: {model.coef_[0]:.2f}\")\n",
    "print(f\"Intercept: {model.intercept_:.2f}\")\n",
    "print(f\"R² Score: {model.score(X_test, y_test):.2f}\")\n"
   ]
  },
  {
   "cell_type": "code",
   "execution_count": null,
   "id": "adcb18cb-4119-43d2-9134-3f4be76c41d8",
   "metadata": {},
   "outputs": [],
   "source": []
  }
 ],
 "metadata": {
  "kernelspec": {
   "display_name": "Python 3 (ipykernel)",
   "language": "python",
   "name": "python3"
  },
  "language_info": {
   "codemirror_mode": {
    "name": "ipython",
    "version": 3
   },
   "file_extension": ".py",
   "mimetype": "text/x-python",
   "name": "python",
   "nbconvert_exporter": "python",
   "pygments_lexer": "ipython3",
   "version": "3.13.3"
  }
 },
 "nbformat": 4,
 "nbformat_minor": 5
}
